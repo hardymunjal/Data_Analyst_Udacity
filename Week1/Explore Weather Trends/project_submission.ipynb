{
 "cells": [
  {
   "cell_type": "markdown",
   "source": [
    "# Project - Explore Weather Trends\r\n",
    "## About\r\n",
    "In this project, we will analyze local and global temperature data and compare the temperature trends where we live to overall global temperature trends.\r\n",
    "\r\n",
    "### Instructions\r\n",
    "Your goal will be to create a visualization and prepare a write up describing the similarities and differences between global temperature trends and temperature trends in the closest big city to where you live. To do this, you’ll follow the steps below:\r\n",
    "\r\n",
    "- Extract the data (Refer [here]())\r\n",
    "- Open up the csv\r\n",
    "- Create a line chart\r\n",
    "- Make Observations"
   ],
   "metadata": {}
  },
  {
   "cell_type": "code",
   "execution_count": 1,
   "source": [
    "#!pip install pandas numpy seaborn matplotlib"
   ],
   "outputs": [
    {
     "output_type": "stream",
     "name": "stdout",
     "text": [
      "Requirement already satisfied: pandas in /mnt/d/Github/da_env/lib/python3.8/site-packages (1.3.1)\n",
      "Requirement already satisfied: numpy in /mnt/d/Github/da_env/lib/python3.8/site-packages (1.21.1)\n",
      "Requirement already satisfied: seaborn in /mnt/d/Github/da_env/lib/python3.8/site-packages (0.11.1)\n",
      "Requirement already satisfied: matplotlib in /mnt/d/Github/da_env/lib/python3.8/site-packages (3.4.2)\n",
      "Requirement already satisfied: pytz>=2017.3 in /mnt/d/Github/da_env/lib/python3.8/site-packages (from pandas) (2021.1)\n",
      "Requirement already satisfied: python-dateutil>=2.7.3 in /mnt/d/Github/da_env/lib/python3.8/site-packages (from pandas) (2.8.2)\n",
      "Requirement already satisfied: scipy>=1.0 in /mnt/d/Github/da_env/lib/python3.8/site-packages (from seaborn) (1.7.0)\n",
      "Requirement already satisfied: cycler>=0.10 in /mnt/d/Github/da_env/lib/python3.8/site-packages (from matplotlib) (0.10.0)\n",
      "Requirement already satisfied: kiwisolver>=1.0.1 in /mnt/d/Github/da_env/lib/python3.8/site-packages (from matplotlib) (1.3.1)\n",
      "Requirement already satisfied: pillow>=6.2.0 in /mnt/d/Github/da_env/lib/python3.8/site-packages (from matplotlib) (8.3.1)\n",
      "Requirement already satisfied: pyparsing>=2.2.1 in /mnt/d/Github/da_env/lib/python3.8/site-packages (from matplotlib) (2.4.7)\n",
      "Requirement already satisfied: six>=1.5 in /mnt/d/Github/da_env/lib/python3.8/site-packages (from python-dateutil>=2.7.3->pandas) (1.16.0)\n"
     ]
    }
   ],
   "metadata": {}
  },
  {
   "cell_type": "code",
   "execution_count": 2,
   "source": [
    "import pandas as pd\n",
    "import numpy as np\n",
    "import seaborn as sns"
   ],
   "outputs": [],
   "metadata": {}
  },
  {
   "cell_type": "code",
   "execution_count": 4,
   "source": [
    "data = pd.read_csv(\"./Accessing Data with SQL/results.csv\")\n",
    "print(data.head())"
   ],
   "outputs": [
    {
     "output_type": "stream",
     "name": "stdout",
     "text": [
      "   year   city country  avg_local_temp  avg_global_temp\n",
      "0  1796  Delhi   India           25.03             8.27\n",
      "1  1797  Delhi   India           26.71             8.51\n",
      "2  1798  Delhi   India           24.29             8.67\n",
      "3  1799  Delhi   India           25.28             8.51\n",
      "4  1800  Delhi   India           25.21             8.48\n"
     ]
    }
   ],
   "metadata": {}
  },
  {
   "cell_type": "code",
   "execution_count": 5,
   "source": [
    "data_local = data[[\"year\", \"avg_local_temp\"]]\n",
    "print(data_local.head())"
   ],
   "outputs": [
    {
     "output_type": "stream",
     "name": "stdout",
     "text": [
      "   year  avg_local_temp\n",
      "0  1796           25.03\n",
      "1  1797           26.71\n",
      "2  1798           24.29\n",
      "3  1799           25.28\n",
      "4  1800           25.21\n"
     ]
    }
   ],
   "metadata": {}
  },
  {
   "cell_type": "code",
   "execution_count": 6,
   "source": [
    "data_global = data[[\"year\", \"avg_global_temp\"]]\n",
    "print(data_global.head())"
   ],
   "outputs": [
    {
     "output_type": "stream",
     "name": "stdout",
     "text": [
      "   year  avg_global_temp\n",
      "0  1796             8.27\n",
      "1  1797             8.51\n",
      "2  1798             8.67\n",
      "3  1799             8.51\n",
      "4  1800             8.48\n"
     ]
    }
   ],
   "metadata": {}
  },
  {
   "cell_type": "code",
   "execution_count": 8,
   "source": [
    "sns.lineplot(x=\"year\", y=\"avg_local_temp\", data=data_local)\n",
    "sns.lineplot(x=\"year\", y=\"avg_global_temp\", data=data_global)"
   ],
   "outputs": [
    {
     "output_type": "execute_result",
     "data": {
      "text/plain": [
       "<AxesSubplot:xlabel='year', ylabel='avg_local_temp'>"
      ]
     },
     "metadata": {},
     "execution_count": 8
    },
    {
     "output_type": "display_data",
     "data": {
      "text/plain": [
       "<Figure size 432x288 with 1 Axes>"
      ],
      "image/png": "[encoded data removed]"
     },
     "metadata": {
      "needs_background": "light"
     }
    }
   ],
   "metadata": {}
  },
  {
   "cell_type": "code",
   "execution_count": null,
   "source": [],
   "outputs": [],
   "metadata": {}
  }
 ],
 "metadata": {
  "orig_nbformat": 4,
  "language_info": {
   "name": "python",
   "version": "3.8.5",
   "mimetype": "text/x-python",
   "codemirror_mode": {
    "name": "ipython",
    "version": 3
   },
   "pygments_lexer": "ipython3",
   "nbconvert_exporter": "python",
   "file_extension": ".py"
  },
  "kernelspec": {
   "name": "python3",
   "display_name": "Python 3.8.5 64-bit ('da_env': venv)"
  },
  "interpreter": {
   "hash": "cb6563a946b4bdc3750acf6b07f95b859a0cd210617015c0ba3a8ef6775a9efc"
  }
 },
 "nbformat": 4,
 "nbformat_minor": 2
}